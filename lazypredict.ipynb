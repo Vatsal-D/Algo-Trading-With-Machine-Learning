{
 "cells": [
  {
   "cell_type": "code",
   "execution_count": 10,
   "metadata": {},
   "outputs": [
    {
     "ename": "ValueError",
     "evalue": "X has 1 features, but MinMaxScaler is expecting 5 features as input.",
     "output_type": "error",
     "traceback": [
      "\u001b[1;31m---------------------------------------------------------------------------\u001b[0m",
      "\u001b[1;31mValueError\u001b[0m                                Traceback (most recent call last)",
      "\u001b[1;32mf:\\stock price\\tcs proce pediction\\lazypredict.ipynb Cell 1\u001b[0m in \u001b[0;36m<cell line: 20>\u001b[1;34m()\u001b[0m\n\u001b[0;32m     <a href='vscode-notebook-cell:/f%3A/stock%20price/tcs%20proce%20pediction/lazypredict.ipynb#W3sZmlsZQ%3D%3D?line=17'>18</a>\u001b[0m scaler \u001b[39m=\u001b[39m MinMaxScaler()\n\u001b[0;32m     <a href='vscode-notebook-cell:/f%3A/stock%20price/tcs%20proce%20pediction/lazypredict.ipynb#W3sZmlsZQ%3D%3D?line=18'>19</a>\u001b[0m X_scaled \u001b[39m=\u001b[39m scaler\u001b[39m.\u001b[39mfit_transform(X)\n\u001b[1;32m---> <a href='vscode-notebook-cell:/f%3A/stock%20price/tcs%20proce%20pediction/lazypredict.ipynb#W3sZmlsZQ%3D%3D?line=19'>20</a>\u001b[0m y_scaled \u001b[39m=\u001b[39m scaler\u001b[39m.\u001b[39;49mtransform(y\u001b[39m.\u001b[39;49mvalues\u001b[39m.\u001b[39;49mreshape(\u001b[39m-\u001b[39;49m\u001b[39m1\u001b[39;49m, \u001b[39m1\u001b[39;49m))\n\u001b[0;32m     <a href='vscode-notebook-cell:/f%3A/stock%20price/tcs%20proce%20pediction/lazypredict.ipynb#W3sZmlsZQ%3D%3D?line=21'>22</a>\u001b[0m \u001b[39m# Split the data into training and testing sets\u001b[39;00m\n\u001b[0;32m     <a href='vscode-notebook-cell:/f%3A/stock%20price/tcs%20proce%20pediction/lazypredict.ipynb#W3sZmlsZQ%3D%3D?line=22'>23</a>\u001b[0m X_train, X_test, y_train, y_test \u001b[39m=\u001b[39m train_test_split(X_scaled, y_scaled, test_size\u001b[39m=\u001b[39m\u001b[39m0.2\u001b[39m, random_state\u001b[39m=\u001b[39m\u001b[39m42\u001b[39m)\n",
      "File \u001b[1;32mc:\\Users\\Lenovo\\anaconda3\\lib\\site-packages\\sklearn\\preprocessing\\_data.py:499\u001b[0m, in \u001b[0;36mMinMaxScaler.transform\u001b[1;34m(self, X)\u001b[0m\n\u001b[0;32m    485\u001b[0m \u001b[39m\"\"\"Scale features of X according to feature_range.\u001b[39;00m\n\u001b[0;32m    486\u001b[0m \n\u001b[0;32m    487\u001b[0m \u001b[39mParameters\u001b[39;00m\n\u001b[1;32m   (...)\u001b[0m\n\u001b[0;32m    495\u001b[0m \u001b[39m    Transformed data.\u001b[39;00m\n\u001b[0;32m    496\u001b[0m \u001b[39m\"\"\"\u001b[39;00m\n\u001b[0;32m    497\u001b[0m check_is_fitted(\u001b[39mself\u001b[39m)\n\u001b[1;32m--> 499\u001b[0m X \u001b[39m=\u001b[39m \u001b[39mself\u001b[39;49m\u001b[39m.\u001b[39;49m_validate_data(\n\u001b[0;32m    500\u001b[0m     X,\n\u001b[0;32m    501\u001b[0m     copy\u001b[39m=\u001b[39;49m\u001b[39mself\u001b[39;49m\u001b[39m.\u001b[39;49mcopy,\n\u001b[0;32m    502\u001b[0m     dtype\u001b[39m=\u001b[39;49mFLOAT_DTYPES,\n\u001b[0;32m    503\u001b[0m     force_all_finite\u001b[39m=\u001b[39;49m\u001b[39m\"\u001b[39;49m\u001b[39mallow-nan\u001b[39;49m\u001b[39m\"\u001b[39;49m,\n\u001b[0;32m    504\u001b[0m     reset\u001b[39m=\u001b[39;49m\u001b[39mFalse\u001b[39;49;00m,\n\u001b[0;32m    505\u001b[0m )\n\u001b[0;32m    507\u001b[0m X \u001b[39m*\u001b[39m\u001b[39m=\u001b[39m \u001b[39mself\u001b[39m\u001b[39m.\u001b[39mscale_\n\u001b[0;32m    508\u001b[0m X \u001b[39m+\u001b[39m\u001b[39m=\u001b[39m \u001b[39mself\u001b[39m\u001b[39m.\u001b[39mmin_\n",
      "File \u001b[1;32mc:\\Users\\Lenovo\\anaconda3\\lib\\site-packages\\sklearn\\base.py:600\u001b[0m, in \u001b[0;36mBaseEstimator._validate_data\u001b[1;34m(self, X, y, reset, validate_separately, **check_params)\u001b[0m\n\u001b[0;32m    597\u001b[0m     out \u001b[39m=\u001b[39m X, y\n\u001b[0;32m    599\u001b[0m \u001b[39mif\u001b[39;00m \u001b[39mnot\u001b[39;00m no_val_X \u001b[39mand\u001b[39;00m check_params\u001b[39m.\u001b[39mget(\u001b[39m\"\u001b[39m\u001b[39mensure_2d\u001b[39m\u001b[39m\"\u001b[39m, \u001b[39mTrue\u001b[39;00m):\n\u001b[1;32m--> 600\u001b[0m     \u001b[39mself\u001b[39;49m\u001b[39m.\u001b[39;49m_check_n_features(X, reset\u001b[39m=\u001b[39;49mreset)\n\u001b[0;32m    602\u001b[0m \u001b[39mreturn\u001b[39;00m out\n",
      "File \u001b[1;32mc:\\Users\\Lenovo\\anaconda3\\lib\\site-packages\\sklearn\\base.py:400\u001b[0m, in \u001b[0;36mBaseEstimator._check_n_features\u001b[1;34m(self, X, reset)\u001b[0m\n\u001b[0;32m    397\u001b[0m     \u001b[39mreturn\u001b[39;00m\n\u001b[0;32m    399\u001b[0m \u001b[39mif\u001b[39;00m n_features \u001b[39m!=\u001b[39m \u001b[39mself\u001b[39m\u001b[39m.\u001b[39mn_features_in_:\n\u001b[1;32m--> 400\u001b[0m     \u001b[39mraise\u001b[39;00m \u001b[39mValueError\u001b[39;00m(\n\u001b[0;32m    401\u001b[0m         \u001b[39mf\u001b[39m\u001b[39m\"\u001b[39m\u001b[39mX has \u001b[39m\u001b[39m{\u001b[39;00mn_features\u001b[39m}\u001b[39;00m\u001b[39m features, but \u001b[39m\u001b[39m{\u001b[39;00m\u001b[39mself\u001b[39m\u001b[39m.\u001b[39m\u001b[39m__class__\u001b[39m\u001b[39m.\u001b[39m\u001b[39m__name__\u001b[39m\u001b[39m}\u001b[39;00m\u001b[39m \u001b[39m\u001b[39m\"\u001b[39m\n\u001b[0;32m    402\u001b[0m         \u001b[39mf\u001b[39m\u001b[39m\"\u001b[39m\u001b[39mis expecting \u001b[39m\u001b[39m{\u001b[39;00m\u001b[39mself\u001b[39m\u001b[39m.\u001b[39mn_features_in_\u001b[39m}\u001b[39;00m\u001b[39m features as input.\u001b[39m\u001b[39m\"\u001b[39m\n\u001b[0;32m    403\u001b[0m     )\n",
      "\u001b[1;31mValueError\u001b[0m: X has 1 features, but MinMaxScaler is expecting 5 features as input."
     ]
    }
   ],
   "source": [
    "import pandas as pd\n",
    "import numpy as np\n",
    "from sklearn.preprocessing import MinMaxScaler\n",
    "from tensorflow.keras.models import Sequential\n",
    "from tensorflow.keras.layers import LSTM, Dense\n",
    "from sklearn.model_selection import train_test_split\n",
    "\n",
    "# Load the OHLC data\n",
    "df = pd.read_csv('5y.csv')\n",
    "\n",
    "# Extract the input (X) and output (y) variables for prediction\n",
    "X = df[['Open', 'High', 'Low', 'Volume', 'Close']]\n",
    "y = df['Close'].shift(-1)\n",
    "X = X[:-1]\n",
    "y = y[:-1]\n",
    "\n",
    "# Data preprocessing\n",
    "scaler = MinMaxScaler()\n",
    "X_scaled = scaler.fit_transform(X)\n",
    "y_scaled = scaler.transform(y.values.reshape(-1, 1))\n",
    "\n",
    "# Split the data into training and testing sets\n",
    "X_train, X_test, y_train, y_test = train_test_split(X_scaled, y_scaled, test_size=0.2, random_state=42)\n",
    "\n",
    "# Reshape the input data to fit the LSTM model (samples, timesteps, features)\n",
    "X_train = np.reshape(X_train, (X_train.shape[0], 1, X_train.shape[1]))\n",
    "X_test = np.reshape(X_test, (X_test.shape[0], 1, X_test.shape[1]))\n",
    "\n",
    "# Build the LSTM model\n",
    "model = Sequential()\n",
    "model.add(LSTM(64, input_shape=(1, X_train.shape[2])))\n",
    "model.add(Dense(1))\n",
    "model.compile(loss='mean_squared_error', optimizer='adam')\n",
    "\n",
    "# Train the model\n",
    "model.fit(X_train, y_train, epochs=50, batch_size=32, verbose=0)\n",
    "\n",
    "# Evaluate the model\n",
    "train_loss = model.evaluate(X_train, y_train, verbose=0)\n",
    "test_loss = model.evaluate(X_test, y_test, verbose=0)\n",
    "print('Train Loss:', train_loss)\n",
    "print('Test Loss:', test_loss)\n"
   ]
  },
  {
   "cell_type": "code",
   "execution_count": 12,
   "metadata": {},
   "outputs": [
    {
     "ename": "AttributeError",
     "evalue": "'NoneType' object has no attribute 'split'",
     "output_type": "error",
     "traceback": [
      "\u001b[1;31m---------------------------------------------------------------------------\u001b[0m",
      "\u001b[1;31mAttributeError\u001b[0m                            Traceback (most recent call last)",
      "\u001b[1;32mf:\\stock price\\tcs proce pediction\\lazypredict.ipynb Cell 2\u001b[0m in \u001b[0;36m<cell line: 3>\u001b[1;34m()\u001b[0m\n\u001b[0;32m      <a href='vscode-notebook-cell:/f%3A/stock%20price/tcs%20proce%20pediction/lazypredict.ipynb#W5sZmlsZQ%3D%3D?line=0'>1</a>\u001b[0m \u001b[39mimport\u001b[39;00m \u001b[39mpandas\u001b[39;00m \u001b[39mas\u001b[39;00m \u001b[39mpd\u001b[39;00m\n\u001b[0;32m      <a href='vscode-notebook-cell:/f%3A/stock%20price/tcs%20proce%20pediction/lazypredict.ipynb#W5sZmlsZQ%3D%3D?line=1'>2</a>\u001b[0m \u001b[39mfrom\u001b[39;00m \u001b[39msklearn\u001b[39;00m\u001b[39m.\u001b[39;00m\u001b[39mmodel_selection\u001b[39;00m \u001b[39mimport\u001b[39;00m train_test_split\n\u001b[1;32m----> <a href='vscode-notebook-cell:/f%3A/stock%20price/tcs%20proce%20pediction/lazypredict.ipynb#W5sZmlsZQ%3D%3D?line=2'>3</a>\u001b[0m \u001b[39mfrom\u001b[39;00m \u001b[39mlazypredict\u001b[39;00m\u001b[39m.\u001b[39;00m\u001b[39mSupervised\u001b[39;00m \u001b[39mimport\u001b[39;00m LazyRegressor\n\u001b[0;32m      <a href='vscode-notebook-cell:/f%3A/stock%20price/tcs%20proce%20pediction/lazypredict.ipynb#W5sZmlsZQ%3D%3D?line=4'>5</a>\u001b[0m \u001b[39m# Load the OHLC data\u001b[39;00m\n\u001b[0;32m      <a href='vscode-notebook-cell:/f%3A/stock%20price/tcs%20proce%20pediction/lazypredict.ipynb#W5sZmlsZQ%3D%3D?line=5'>6</a>\u001b[0m df \u001b[39m=\u001b[39m pd\u001b[39m.\u001b[39mread_csv(\u001b[39m'\u001b[39m\u001b[39m5y.csv\u001b[39m\u001b[39m'\u001b[39m)\n",
      "File \u001b[1;32mc:\\Users\\Lenovo\\anaconda3\\lib\\site-packages\\lazypredict\\Supervised.py:73\u001b[0m, in \u001b[0;36m<module>\u001b[1;34m\u001b[0m\n\u001b[0;32m     36\u001b[0m removed_classifiers \u001b[39m=\u001b[39m [\n\u001b[0;32m     37\u001b[0m     \u001b[39m\"\u001b[39m\u001b[39mClassifierChain\u001b[39m\u001b[39m\"\u001b[39m,\n\u001b[0;32m     38\u001b[0m     \u001b[39m\"\u001b[39m\u001b[39mComplementNB\u001b[39m\u001b[39m\"\u001b[39m,\n\u001b[1;32m   (...)\u001b[0m\n\u001b[0;32m     50\u001b[0m     \u001b[39m\"\u001b[39m\u001b[39mVotingClassifier\u001b[39m\u001b[39m\"\u001b[39m,\n\u001b[0;32m     51\u001b[0m ]\n\u001b[0;32m     53\u001b[0m removed_regressors \u001b[39m=\u001b[39m [\n\u001b[0;32m     54\u001b[0m     \u001b[39m\"\u001b[39m\u001b[39mTheilSenRegressor\u001b[39m\u001b[39m\"\u001b[39m,\n\u001b[0;32m     55\u001b[0m     \u001b[39m\"\u001b[39m\u001b[39mARDRegression\u001b[39m\u001b[39m\"\u001b[39m, \n\u001b[1;32m   (...)\u001b[0m\n\u001b[0;32m     68\u001b[0m     \u001b[39m\"\u001b[39m\u001b[39mVotingRegressor\u001b[39m\u001b[39m\"\u001b[39m, \n\u001b[0;32m     69\u001b[0m ]\n\u001b[0;32m     71\u001b[0m CLASSIFIERS \u001b[39m=\u001b[39m [\n\u001b[0;32m     72\u001b[0m     est\n\u001b[1;32m---> 73\u001b[0m     \u001b[39mfor\u001b[39;00m est \u001b[39min\u001b[39;00m all_estimators()\n\u001b[0;32m     74\u001b[0m     \u001b[39mif\u001b[39;00m (\u001b[39missubclass\u001b[39m(est[\u001b[39m1\u001b[39m], ClassifierMixin) \u001b[39mand\u001b[39;00m (est[\u001b[39m0\u001b[39m] \u001b[39mnot\u001b[39;00m \u001b[39min\u001b[39;00m removed_classifiers))\n\u001b[0;32m     75\u001b[0m ]\n\u001b[0;32m     77\u001b[0m REGRESSORS \u001b[39m=\u001b[39m [\n\u001b[0;32m     78\u001b[0m     est\n\u001b[0;32m     79\u001b[0m     \u001b[39mfor\u001b[39;00m est \u001b[39min\u001b[39;00m all_estimators()\n\u001b[0;32m     80\u001b[0m     \u001b[39mif\u001b[39;00m (\u001b[39missubclass\u001b[39m(est[\u001b[39m1\u001b[39m], RegressorMixin) \u001b[39mand\u001b[39;00m (est[\u001b[39m0\u001b[39m] \u001b[39mnot\u001b[39;00m \u001b[39min\u001b[39;00m removed_regressors))\n\u001b[0;32m     81\u001b[0m ]\n\u001b[0;32m     83\u001b[0m REGRESSORS\u001b[39m.\u001b[39mappend((\u001b[39m\"\u001b[39m\u001b[39mXGBRegressor\u001b[39m\u001b[39m\"\u001b[39m, xgboost\u001b[39m.\u001b[39mXGBRegressor))\n",
      "File \u001b[1;32mc:\\Users\\Lenovo\\anaconda3\\lib\\site-packages\\sklearn\\utils\\__init__.py:1174\u001b[0m, in \u001b[0;36mall_estimators\u001b[1;34m(type_filter)\u001b[0m\n\u001b[0;32m   1151\u001b[0m \u001b[39m\"\"\"Get a list of all estimators from sklearn.\u001b[39;00m\n\u001b[0;32m   1152\u001b[0m \n\u001b[0;32m   1153\u001b[0m \u001b[39mThis function crawls the module and gets all classes that inherit\u001b[39;00m\n\u001b[1;32m   (...)\u001b[0m\n\u001b[0;32m   1171\u001b[0m \u001b[39m    and ``class`` is the actual type of the class.\u001b[39;00m\n\u001b[0;32m   1172\u001b[0m \u001b[39m\"\"\"\u001b[39;00m\n\u001b[0;32m   1173\u001b[0m \u001b[39m# lazy import to avoid circular imports from sklearn.base\u001b[39;00m\n\u001b[1;32m-> 1174\u001b[0m \u001b[39mfrom\u001b[39;00m \u001b[39m.\u001b[39;00m\u001b[39m_testing\u001b[39;00m \u001b[39mimport\u001b[39;00m ignore_warnings\n\u001b[0;32m   1175\u001b[0m \u001b[39mfrom\u001b[39;00m \u001b[39m.\u001b[39;00m\u001b[39m.\u001b[39;00m\u001b[39mbase\u001b[39;00m \u001b[39mimport\u001b[39;00m (\n\u001b[0;32m   1176\u001b[0m     BaseEstimator,\n\u001b[0;32m   1177\u001b[0m     ClassifierMixin,\n\u001b[1;32m   (...)\u001b[0m\n\u001b[0;32m   1180\u001b[0m     ClusterMixin,\n\u001b[0;32m   1181\u001b[0m )\n\u001b[0;32m   1183\u001b[0m \u001b[39mdef\u001b[39;00m \u001b[39mis_abstract\u001b[39m(c):\n",
      "File \u001b[1;32mc:\\Users\\Lenovo\\anaconda3\\lib\\site-packages\\sklearn\\utils\\_testing.py:532\u001b[0m, in \u001b[0;36m<module>\u001b[1;34m\u001b[0m\n\u001b[0;32m    527\u001b[0m skip_travis \u001b[39m=\u001b[39m pytest\u001b[39m.\u001b[39mmark\u001b[39m.\u001b[39mskipif(\n\u001b[0;32m    528\u001b[0m     os\u001b[39m.\u001b[39menviron\u001b[39m.\u001b[39mget(\u001b[39m\"\u001b[39m\u001b[39mTRAVIS\u001b[39m\u001b[39m\"\u001b[39m) \u001b[39m==\u001b[39m \u001b[39m\"\u001b[39m\u001b[39mtrue\u001b[39m\u001b[39m\"\u001b[39m, reason\u001b[39m=\u001b[39m\u001b[39m\"\u001b[39m\u001b[39mskip on travis\u001b[39m\u001b[39m\"\u001b[39m\n\u001b[0;32m    529\u001b[0m )\n\u001b[0;32m    530\u001b[0m fails_if_pypy \u001b[39m=\u001b[39m pytest\u001b[39m.\u001b[39mmark\u001b[39m.\u001b[39mxfail(IS_PYPY, reason\u001b[39m=\u001b[39m\u001b[39m\"\u001b[39m\u001b[39mnot compatible with PyPy\u001b[39m\u001b[39m\"\u001b[39m)\n\u001b[0;32m    531\u001b[0m fails_if_unstable_openblas \u001b[39m=\u001b[39m pytest\u001b[39m.\u001b[39mmark\u001b[39m.\u001b[39mxfail(\n\u001b[1;32m--> 532\u001b[0m     _in_unstable_openblas_configuration(),\n\u001b[0;32m    533\u001b[0m     reason\u001b[39m=\u001b[39m\u001b[39m\"\u001b[39m\u001b[39mOpenBLAS is unstable for this configuration\u001b[39m\u001b[39m\"\u001b[39m,\n\u001b[0;32m    534\u001b[0m )\n\u001b[0;32m    535\u001b[0m skip_if_no_parallel \u001b[39m=\u001b[39m pytest\u001b[39m.\u001b[39mmark\u001b[39m.\u001b[39mskipif(\n\u001b[0;32m    536\u001b[0m     \u001b[39mnot\u001b[39;00m joblib\u001b[39m.\u001b[39mparallel\u001b[39m.\u001b[39mmp, reason\u001b[39m=\u001b[39m\u001b[39m\"\u001b[39m\u001b[39mjoblib is in serial mode\u001b[39m\u001b[39m\"\u001b[39m\n\u001b[0;32m    537\u001b[0m )\n\u001b[0;32m    539\u001b[0m \u001b[39m#  Decorator for tests involving both BLAS calls and multiprocessing.\u001b[39;00m\n\u001b[0;32m    540\u001b[0m \u001b[39m#\u001b[39;00m\n\u001b[0;32m    541\u001b[0m \u001b[39m#  Under POSIX (e.g. Linux or OSX), using multiprocessing in conjunction\u001b[39;00m\n\u001b[1;32m   (...)\u001b[0m\n\u001b[0;32m    555\u001b[0m \u001b[39m#  errors on interactively defined functions. It therefore not enabled by\u001b[39;00m\n\u001b[0;32m    556\u001b[0m \u001b[39m#  default.\u001b[39;00m\n",
      "File \u001b[1;32mc:\\Users\\Lenovo\\anaconda3\\lib\\site-packages\\sklearn\\utils\\__init__.py:93\u001b[0m, in \u001b[0;36m_in_unstable_openblas_configuration\u001b[1;34m()\u001b[0m\n\u001b[0;32m     90\u001b[0m \u001b[39mimport\u001b[39;00m \u001b[39mnumpy\u001b[39;00m  \u001b[39m# noqa\u001b[39;00m\n\u001b[0;32m     91\u001b[0m \u001b[39mimport\u001b[39;00m \u001b[39mscipy\u001b[39;00m  \u001b[39m# noqa\u001b[39;00m\n\u001b[1;32m---> 93\u001b[0m modules_info \u001b[39m=\u001b[39m threadpool_info()\n\u001b[0;32m     95\u001b[0m open_blas_used \u001b[39m=\u001b[39m \u001b[39many\u001b[39m(info[\u001b[39m\"\u001b[39m\u001b[39minternal_api\u001b[39m\u001b[39m\"\u001b[39m] \u001b[39m==\u001b[39m \u001b[39m\"\u001b[39m\u001b[39mopenblas\u001b[39m\u001b[39m\"\u001b[39m \u001b[39mfor\u001b[39;00m info \u001b[39min\u001b[39;00m modules_info)\n\u001b[0;32m     96\u001b[0m \u001b[39mif\u001b[39;00m \u001b[39mnot\u001b[39;00m open_blas_used:\n",
      "File \u001b[1;32mc:\\Users\\Lenovo\\anaconda3\\lib\\site-packages\\sklearn\\utils\\fixes.py:162\u001b[0m, in \u001b[0;36mthreadpool_info\u001b[1;34m()\u001b[0m\n\u001b[0;32m    160\u001b[0m     \u001b[39mreturn\u001b[39;00m controller\u001b[39m.\u001b[39minfo()\n\u001b[0;32m    161\u001b[0m \u001b[39melse\u001b[39;00m:\n\u001b[1;32m--> 162\u001b[0m     \u001b[39mreturn\u001b[39;00m threadpoolctl\u001b[39m.\u001b[39;49mthreadpool_info()\n",
      "File \u001b[1;32mc:\\Users\\Lenovo\\anaconda3\\lib\\site-packages\\threadpoolctl.py:124\u001b[0m, in \u001b[0;36mthreadpool_info\u001b[1;34m()\u001b[0m\n\u001b[0;32m    107\u001b[0m \u001b[39m@_format_docstring\u001b[39m(USER_APIS\u001b[39m=\u001b[39m\u001b[39mlist\u001b[39m(_ALL_USER_APIS),\n\u001b[0;32m    108\u001b[0m                    INTERNAL_APIS\u001b[39m=\u001b[39m_ALL_INTERNAL_APIS)\n\u001b[0;32m    109\u001b[0m \u001b[39mdef\u001b[39;00m \u001b[39mthreadpool_info\u001b[39m():\n\u001b[0;32m    110\u001b[0m     \u001b[39m\"\"\"Return the maximal number of threads for each detected library.\u001b[39;00m\n\u001b[0;32m    111\u001b[0m \n\u001b[0;32m    112\u001b[0m \u001b[39m    Return a list with all the supported modules that have been found. Each\u001b[39;00m\n\u001b[1;32m   (...)\u001b[0m\n\u001b[0;32m    122\u001b[0m \u001b[39m    In addition, each module may contain internal_api specific entries.\u001b[39;00m\n\u001b[0;32m    123\u001b[0m \u001b[39m    \"\"\"\u001b[39;00m\n\u001b[1;32m--> 124\u001b[0m     \u001b[39mreturn\u001b[39;00m _ThreadpoolInfo(user_api\u001b[39m=\u001b[39;49m_ALL_USER_APIS)\u001b[39m.\u001b[39mtodicts()\n",
      "File \u001b[1;32mc:\\Users\\Lenovo\\anaconda3\\lib\\site-packages\\threadpoolctl.py:340\u001b[0m, in \u001b[0;36m_ThreadpoolInfo.__init__\u001b[1;34m(self, user_api, prefixes, modules)\u001b[0m\n\u001b[0;32m    337\u001b[0m     \u001b[39mself\u001b[39m\u001b[39m.\u001b[39muser_api \u001b[39m=\u001b[39m [] \u001b[39mif\u001b[39;00m user_api \u001b[39mis\u001b[39;00m \u001b[39mNone\u001b[39;00m \u001b[39melse\u001b[39;00m user_api\n\u001b[0;32m    339\u001b[0m     \u001b[39mself\u001b[39m\u001b[39m.\u001b[39mmodules \u001b[39m=\u001b[39m []\n\u001b[1;32m--> 340\u001b[0m     \u001b[39mself\u001b[39;49m\u001b[39m.\u001b[39;49m_load_modules()\n\u001b[0;32m    341\u001b[0m     \u001b[39mself\u001b[39m\u001b[39m.\u001b[39m_warn_if_incompatible_openmp()\n\u001b[0;32m    342\u001b[0m \u001b[39melse\u001b[39;00m:\n",
      "File \u001b[1;32mc:\\Users\\Lenovo\\anaconda3\\lib\\site-packages\\threadpoolctl.py:373\u001b[0m, in \u001b[0;36m_ThreadpoolInfo._load_modules\u001b[1;34m(self)\u001b[0m\n\u001b[0;32m    371\u001b[0m     \u001b[39mself\u001b[39m\u001b[39m.\u001b[39m_find_modules_with_dyld()\n\u001b[0;32m    372\u001b[0m \u001b[39melif\u001b[39;00m sys\u001b[39m.\u001b[39mplatform \u001b[39m==\u001b[39m \u001b[39m\"\u001b[39m\u001b[39mwin32\u001b[39m\u001b[39m\"\u001b[39m:\n\u001b[1;32m--> 373\u001b[0m     \u001b[39mself\u001b[39;49m\u001b[39m.\u001b[39;49m_find_modules_with_enum_process_module_ex()\n\u001b[0;32m    374\u001b[0m \u001b[39melse\u001b[39;00m:\n\u001b[0;32m    375\u001b[0m     \u001b[39mself\u001b[39m\u001b[39m.\u001b[39m_find_modules_with_dl_iterate_phdr()\n",
      "File \u001b[1;32mc:\\Users\\Lenovo\\anaconda3\\lib\\site-packages\\threadpoolctl.py:485\u001b[0m, in \u001b[0;36m_ThreadpoolInfo._find_modules_with_enum_process_module_ex\u001b[1;34m(self)\u001b[0m\n\u001b[0;32m    482\u001b[0m         filepath \u001b[39m=\u001b[39m buf\u001b[39m.\u001b[39mvalue\n\u001b[0;32m    484\u001b[0m         \u001b[39m# Store the module if it is supported and selected\u001b[39;00m\n\u001b[1;32m--> 485\u001b[0m         \u001b[39mself\u001b[39;49m\u001b[39m.\u001b[39;49m_make_module_from_path(filepath)\n\u001b[0;32m    486\u001b[0m \u001b[39mfinally\u001b[39;00m:\n\u001b[0;32m    487\u001b[0m     kernel_32\u001b[39m.\u001b[39mCloseHandle(h_process)\n",
      "File \u001b[1;32mc:\\Users\\Lenovo\\anaconda3\\lib\\site-packages\\threadpoolctl.py:515\u001b[0m, in \u001b[0;36m_ThreadpoolInfo._make_module_from_path\u001b[1;34m(self, filepath)\u001b[0m\n\u001b[0;32m    513\u001b[0m \u001b[39mif\u001b[39;00m prefix \u001b[39min\u001b[39;00m \u001b[39mself\u001b[39m\u001b[39m.\u001b[39mprefixes \u001b[39mor\u001b[39;00m user_api \u001b[39min\u001b[39;00m \u001b[39mself\u001b[39m\u001b[39m.\u001b[39muser_api:\n\u001b[0;32m    514\u001b[0m     module_class \u001b[39m=\u001b[39m \u001b[39mglobals\u001b[39m()[module_class]\n\u001b[1;32m--> 515\u001b[0m     module \u001b[39m=\u001b[39m module_class(filepath, prefix, user_api, internal_api)\n\u001b[0;32m    516\u001b[0m     \u001b[39mself\u001b[39m\u001b[39m.\u001b[39mmodules\u001b[39m.\u001b[39mappend(module)\n",
      "File \u001b[1;32mc:\\Users\\Lenovo\\anaconda3\\lib\\site-packages\\threadpoolctl.py:606\u001b[0m, in \u001b[0;36m_Module.__init__\u001b[1;34m(self, filepath, prefix, user_api, internal_api)\u001b[0m\n\u001b[0;32m    604\u001b[0m \u001b[39mself\u001b[39m\u001b[39m.\u001b[39minternal_api \u001b[39m=\u001b[39m internal_api\n\u001b[0;32m    605\u001b[0m \u001b[39mself\u001b[39m\u001b[39m.\u001b[39m_dynlib \u001b[39m=\u001b[39m ctypes\u001b[39m.\u001b[39mCDLL(filepath, mode\u001b[39m=\u001b[39m_RTLD_NOLOAD)\n\u001b[1;32m--> 606\u001b[0m \u001b[39mself\u001b[39m\u001b[39m.\u001b[39mversion \u001b[39m=\u001b[39m \u001b[39mself\u001b[39;49m\u001b[39m.\u001b[39;49mget_version()\n\u001b[0;32m    607\u001b[0m \u001b[39mself\u001b[39m\u001b[39m.\u001b[39mnum_threads \u001b[39m=\u001b[39m \u001b[39mself\u001b[39m\u001b[39m.\u001b[39mget_num_threads()\n\u001b[0;32m    608\u001b[0m \u001b[39mself\u001b[39m\u001b[39m.\u001b[39m_get_extra_info()\n",
      "File \u001b[1;32mc:\\Users\\Lenovo\\anaconda3\\lib\\site-packages\\threadpoolctl.py:646\u001b[0m, in \u001b[0;36m_OpenBLASModule.get_version\u001b[1;34m(self)\u001b[0m\n\u001b[0;32m    643\u001b[0m get_config \u001b[39m=\u001b[39m \u001b[39mgetattr\u001b[39m(\u001b[39mself\u001b[39m\u001b[39m.\u001b[39m_dynlib, \u001b[39m\"\u001b[39m\u001b[39mopenblas_get_config\u001b[39m\u001b[39m\"\u001b[39m,\n\u001b[0;32m    644\u001b[0m                      \u001b[39mlambda\u001b[39;00m: \u001b[39mNone\u001b[39;00m)\n\u001b[0;32m    645\u001b[0m get_config\u001b[39m.\u001b[39mrestype \u001b[39m=\u001b[39m ctypes\u001b[39m.\u001b[39mc_char_p\n\u001b[1;32m--> 646\u001b[0m config \u001b[39m=\u001b[39m get_config()\u001b[39m.\u001b[39;49msplit()\n\u001b[0;32m    647\u001b[0m \u001b[39mif\u001b[39;00m config[\u001b[39m0\u001b[39m] \u001b[39m==\u001b[39m \u001b[39mb\u001b[39m\u001b[39m\"\u001b[39m\u001b[39mOpenBLAS\u001b[39m\u001b[39m\"\u001b[39m:\n\u001b[0;32m    648\u001b[0m     \u001b[39mreturn\u001b[39;00m config[\u001b[39m1\u001b[39m]\u001b[39m.\u001b[39mdecode(\u001b[39m\"\u001b[39m\u001b[39mutf-8\u001b[39m\u001b[39m\"\u001b[39m)\n",
      "\u001b[1;31mAttributeError\u001b[0m: 'NoneType' object has no attribute 'split'"
     ]
    }
   ],
   "source": [
    "import pandas as pd\n",
    "from sklearn.model_selection import train_test_split\n",
    "from lazypredict.Supervised import LazyRegressor\n",
    "\n",
    "# Load the OHLC data\n",
    "df = pd.read_csv('5y.csv')\n",
    "\n",
    "# Extract the input (X) and output (y) variables for prediction\n",
    "X = df[['Open', 'High', 'Low', 'Volume', 'Close']]\n",
    "y = df['Close']\n",
    "\n",
    "# Shift the target variable\n",
    "y_shifted = y.shift(-1).dropna()\n",
    "\n",
    "# Split the data into training and testing sets\n",
    "X_train, X_test, y_train, y_test = train_test_split(X[:-1], y_shifted, test_size=0.2, random_state=42)\n",
    "\n",
    "# Apply LazyRegressor\n",
    "reg = LazyRegressor(ignore_warnings=True, random_state=42)\n",
    "models, predictions = reg.fit(X_train, X_test, y_train, y_test)\n",
    "\n",
    "# Print the models and their performance\n",
    "print(models)\n"
   ]
  },
  {
   "cell_type": "code",
   "execution_count": null,
   "metadata": {},
   "outputs": [],
   "source": []
  }
 ],
 "metadata": {
  "kernelspec": {
   "display_name": "Python 3",
   "language": "python",
   "name": "python3"
  },
  "language_info": {
   "codemirror_mode": {
    "name": "ipython",
    "version": 3
   },
   "file_extension": ".py",
   "mimetype": "text/x-python",
   "name": "python",
   "nbconvert_exporter": "python",
   "pygments_lexer": "ipython3",
   "version": "3.9.12"
  },
  "orig_nbformat": 4
 },
 "nbformat": 4,
 "nbformat_minor": 2
}
