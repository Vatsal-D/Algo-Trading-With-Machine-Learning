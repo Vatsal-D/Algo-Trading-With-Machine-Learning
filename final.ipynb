{
 "cells": [
  {
   "cell_type": "code",
   "execution_count": 3,
   "metadata": {},
   "outputs": [
    {
     "name": "stdout",
     "output_type": "stream",
     "text": [
      "Next day's close value: 3123.3359906548626\n"
     ]
    }
   ],
   "source": [
    "import pandas as pd\n",
    "from sklearn.linear_model import LinearRegression\n",
    "\n",
    "# load data\n",
    "df = pd.read_csv('TCS.NS.csv')\n",
    "\n",
    "\n",
    "X = df[['Open', 'High', 'Low', 'Volume', 'Close']]\n",
    "y = df['Close'].shift(-1) \n",
    "X = X[:-1]\n",
    "y = y[:-1]\n",
    "\n",
    "\n",
    "train_size = int(len(X) * 0.8)\n",
    "X_train, X_test = X[:train_size], X[train_size:]\n",
    "y_train, y_test = y[:train_size], y[train_size:]\n",
    "\n",
    "model = LinearRegression()\n",
    "model.fit(X_train, y_train)\n",
    "\n",
    "last_row = df.tail(1)[['Open', 'High', 'Low', 'Volume', 'Close']]\n",
    "next_day_close = model.predict(last_row)[0]\n",
    "\n",
    "print('Next day\\'s close value:', next_day_close)\n"
   ]
  },
  {
   "cell_type": "code",
   "execution_count": 4,
   "metadata": {},
   "outputs": [
    {
     "name": "stdout",
     "output_type": "stream",
     "text": [
      "R-squared score: 0.9004765378984464\n"
     ]
    }
   ],
   "source": [
    "#linear regression with r squared\n",
    "import pandas as pd\n",
    "from sklearn.linear_model import LinearRegression\n",
    "\n",
    "# load data\n",
    "df = pd.read_csv('TCS.NS.csv')\n",
    "\n",
    "\n",
    "X = df[['Open', 'High', 'Low', 'Volume', 'Close']]\n",
    "y = df['Close'].shift(-1) \n",
    "X = X[:-1]\n",
    "y = y[:-1]\n",
    "\n",
    "\n",
    "train_size = int(len(X) * 0.8)\n",
    "X_train, X_test = X[:train_size], X[train_size:]\n",
    "y_train, y_test = y[:train_size], y[train_size:]\n",
    "\n",
    "\n",
    "model = LinearRegression()\n",
    "model.fit(X_train, y_train)\n",
    "\n",
    "predictions = model.predict(X_test)\n",
    "\n",
    "\n",
    "score = model.score(X_test, y_test)\n",
    "print('R-squared score:', score)\n"
   ]
  },
  {
   "cell_type": "code",
   "execution_count": 5,
   "metadata": {},
   "outputs": [
    {
     "name": "stdout",
     "output_type": "stream",
     "text": [
      "Root Mean Squared Error (RMSE): 39.16688843888585\n"
     ]
    }
   ],
   "source": [
    "#linear regression with rmse\n",
    "import pandas as pd\n",
    "from sklearn.linear_model import LinearRegression\n",
    "from sklearn.metrics import mean_squared_error\n",
    "import numpy as np\n",
    "\n",
    "df = pd.read_csv('TCS.NS.csv')\n",
    "\n",
    "\n",
    "X = df[['Open', 'High', 'Low', 'Volume', 'Close']]\n",
    "y = df['Close'].shift(-1)\n",
    "X = X[:-1]\n",
    "y = y[:-1]\n",
    "\n",
    "\n",
    "train_size = int(len(X) * 0.8)\n",
    "X_train, X_test = X[:train_size], X[train_size:]\n",
    "y_train, y_test = y[:train_size], y[train_size:]\n",
    "\n",
    "model = LinearRegression()\n",
    "model.fit(X_train, y_train)\n",
    "\n",
    "\n",
    "predictions = model.predict(X_test)\n",
    "\n",
    "\n",
    "rmse = np.sqrt(mean_squared_error(y_test, predictions))\n",
    "print('Root Mean Squared Error (RMSE):', rmse)\n"
   ]
  },
  {
   "cell_type": "code",
   "execution_count": 6,
   "metadata": {},
   "outputs": [
    {
     "ename": "SyntaxError",
     "evalue": "invalid syntax (Temp/ipykernel_10312/1723688830.py, line 14)",
     "output_type": "error",
     "traceback": [
      "\u001b[1;36m  File \u001b[1;32m\"C:\\Users\\Lenovo\\AppData\\Local\\Temp/ipykernel_10312/1723688830.py\"\u001b[1;36m, line \u001b[1;32m14\u001b[0m\n\u001b[1;33m    X = X[:-1]\u001b[0m\n\u001b[1;37m    ^\u001b[0m\n\u001b[1;31mSyntaxError\u001b[0m\u001b[1;31m:\u001b[0m invalid syntax\n"
     ]
    }
   ],
   "source": [
    "#random forest classifier with RMSe\n",
    "import pandas as pd\n",
    "from sklearn.ensemble import RandomForestRegressor\n",
    "from sklearn.metrics import mean_squared_error\n",
    "from sklearn.model_selection import train_test_split\n",
    "import numpy as np\n",
    "\n",
    "\n",
    "df = pd.read_csv('TCS.NS.csv')\n",
    "\n",
    "\n",
    "X = df[['Open', 'High', 'Low', 'Volume', 'Close']]\n",
    "y = (df['Close'].shift(-1) \n",
    "X = X[:-1]\n",
    "y = y[:-1]\n",
    "\n",
    "\n",
    "X_train, X_test, y_train, y_test = train_test_split(X, y, test_size=0.2, random_state=42)\n",
    "\n",
    "model = RandomForestClassifier(random_state=42)\n",
    "model.fit(X_train, y_train)\n",
    "\n",
    "\n",
    "y_pred = model.predict(X_test)\n",
    "rmse = np.sqrt(mean_squared_error(y_test, y_pred))\n",
    "print('Root Mean Squared Error (RMSE):', rmse)\n",
    "# use random forest regressor "
   ]
  },
  {
   "cell_type": "code",
   "execution_count": null,
   "metadata": {},
   "outputs": [
    {
     "name": "stdout",
     "output_type": "stream",
     "text": [
      "R-squared score: 0.9250748028312422\n"
     ]
    }
   ],
   "source": [
    "#random forest classifier with r sqaure\n",
    "\n",
    "import pandas as pd\n",
    "from sklearn.ensemble import RandomForestRegressor\n",
    "from sklearn.metrics import r2_score\n",
    "from sklearn.model_selection import train_test_split\n",
    "\n",
    "# load data\n",
    "df = pd.read_csv('TCS.NS.csv')\n",
    "\n",
    "# create X and y\n",
    "X = df[['Open', 'High', 'Low', 'Volume', 'Close']]\n",
    "y = df['Close'].shift(-1) \n",
    "X = X[:-1]\n",
    "y = y[:-1]\n",
    "\n",
    "\n",
    "X_train, X_test, y_train, y_test = train_test_split(X, y, test_size=0.2, random_state=42)\n",
    "\n",
    "\n",
    "model = RandomForestRegressor(random_state=42)\n",
    "model.fit(X_train, y_train)\n",
    "\n",
    "\n",
    "y_pred = model.predict(X_test)\n",
    "r2 = r2_score(y_test, y_pred)\n",
    "print('R-squared score:', r2)\n"
   ]
  },
  {
   "cell_type": "code",
   "execution_count": null,
   "metadata": {},
   "outputs": [
    {
     "name": "stdout",
     "output_type": "stream",
     "text": [
      "0      3705.350098\n",
      "1      3731.550049\n",
      "2      3739.949951\n",
      "3      3758.750000\n",
      "4      3770.350098\n",
      "          ...     \n",
      "244    3106.100098\n",
      "245    3130.800049\n",
      "246    3124.649902\n",
      "247    3120.500000\n",
      "248    3122.300049\n",
      "Name: Close, Length: 249, dtype: float64\n",
      "R Squared Value: 0.8274388530100335\n",
      "0      3705.350098\n",
      "1      3731.550049\n",
      "2      3739.949951\n",
      "3      3758.750000\n",
      "4      3770.350098\n",
      "          ...     \n",
      "244    3106.100098\n",
      "245    3130.800049\n",
      "246    3124.649902\n",
      "247    3120.500000\n",
      "248    3122.300049\n",
      "Name: Close, Length: 249, dtype: float64\n"
     ]
    }
   ],
   "source": [
    "#decision tree with r squared\n",
    "import pandas as pd\n",
    "from sklearn.tree import DecisionTreeRegressor # use regressor\n",
    "from sklearn.metrics import r2_score\n",
    "from sklearn.model_selection import train_test_split\n",
    "import numpy as np\n",
    "\n",
    "\n",
    "df = pd.read_csv('TCS.NS.csv')\n",
    "\n",
    "X = df[['Open', 'High', 'Low', 'Volume', 'Close']] \n",
    "y = df['Close'].shift(-1)\n",
    "\n",
    "X = X[:-1]\n",
    "y = y[:-1]\n",
    "\n",
    "\n",
    "X_train, X_test, y_train, y_test = train_test_split(X, y, test_size=0.2, random_state=42)\n",
    "\n",
    "\n",
    "model = DecisionTreeRegressor(random_state=42)\n",
    "model.fit(X_train, y_train)\n",
    "print(y)\n",
    "\n",
    "y_pred = model.predict(X_test)\n",
    "r_squared = r2_score(y_test, y_pred)\n",
    "print('R Squared Value:', r_squared)\n",
    "print(y)\n"
   ]
  },
  {
   "cell_type": "code",
   "execution_count": 12,
   "metadata": {},
   "outputs": [
    {
     "name": "stdout",
     "output_type": "stream",
     "text": [
      "Root Mean Squared Error (RMSE): 71.36868555444056\n"
     ]
    }
   ],
   "source": [
    "# Desision tree with rmse\n",
    "import pandas as pd\n",
    "from sklearn.tree import DecisionTreeRegressor\n",
    "from sklearn.metrics import mean_squared_error\n",
    "from sklearn.model_selection import train_test_split\n",
    "import numpy as np\n",
    "\n",
    "\n",
    "df = pd.read_csv('TCS.NS.csv')\n",
    "\n",
    "X = df[['Open', 'High', 'Low', 'Volume', 'Close']]\n",
    "y = df['Close'].shift(-1) \n",
    "\n",
    "X = X[:-1]\n",
    "y = y[:-1]\n",
    "\n",
    "\n",
    "X_train, X_test, y_train, y_test = train_test_split(X, y, test_size=0.2, random_state=42)\n",
    "\n",
    "\n",
    "model = DecisionTreeRegressor(random_state=42)\n",
    "model.fit(X_train, y_train)\n",
    "\n",
    "\n",
    "y_pred = model.predict(X_test)\n",
    "\n",
    "rmse = np.sqrt(mean_squared_error(y_test, y_pred))\n",
    "print('Root Mean Squared Error (RMSE):', rmse)\n"
   ]
  },
  {
   "cell_type": "code",
   "execution_count": 2,
   "metadata": {},
   "outputs": [
    {
     "ename": "NameError",
     "evalue": "name 'df' is not defined",
     "output_type": "error",
     "traceback": [
      "\u001b[1;31m---------------------------------------------------------------------------\u001b[0m",
      "\u001b[1;31mNameError\u001b[0m                                 Traceback (most recent call last)",
      "\u001b[1;32mf:\\stock price\\tcs proce pediction\\final.ipynb Cell 8\u001b[0m in \u001b[0;36m<cell line: 1>\u001b[1;34m()\u001b[0m\n\u001b[1;32m----> <a href='vscode-notebook-cell:/f%3A/stock%20price/tcs%20proce%20pediction/final.ipynb#X10sZmlsZQ%3D%3D?line=0'>1</a>\u001b[0m df\u001b[39m.\u001b[39mhead()\n",
      "\u001b[1;31mNameError\u001b[0m: name 'df' is not defined"
     ]
    }
   ],
   "source": [
    "df.head()"
   ]
  },
  {
   "cell_type": "code",
   "execution_count": null,
   "metadata": {},
   "outputs": [],
   "source": []
  }
 ],
 "metadata": {
  "kernelspec": {
   "display_name": "Python 3",
   "language": "python",
   "name": "python3"
  },
  "language_info": {
   "codemirror_mode": {
    "name": "ipython",
    "version": 3
   },
   "file_extension": ".py",
   "mimetype": "text/x-python",
   "name": "python",
   "nbconvert_exporter": "python",
   "pygments_lexer": "ipython3",
   "version": "3.9.12"
  },
  "orig_nbformat": 4
 },
 "nbformat": 4,
 "nbformat_minor": 2
}
