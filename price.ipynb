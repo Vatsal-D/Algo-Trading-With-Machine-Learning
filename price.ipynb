{
 "cells": [
  {
   "cell_type": "code",
   "execution_count": 1,
   "metadata": {},
   "outputs": [],
   "source": [
    "import pandas as pd\n",
    "import numpy as np\n",
    "from sklearn import metrics\n",
    "import matplotlib.pyplot as plt"
   ]
  },
  {
   "cell_type": "code",
   "execution_count": 3,
   "metadata": {},
   "outputs": [],
   "source": [
    "df=pd.read_csv('TCS.NS.csv')\n"
   ]
  },
  {
   "cell_type": "code",
   "execution_count": 4,
   "metadata": {},
   "outputs": [
    {
     "data": {
      "text/html": [
       "<div>\n",
       "<style scoped>\n",
       "    .dataframe tbody tr th:only-of-type {\n",
       "        vertical-align: middle;\n",
       "    }\n",
       "\n",
       "    .dataframe tbody tr th {\n",
       "        vertical-align: top;\n",
       "    }\n",
       "\n",
       "    .dataframe thead th {\n",
       "        text-align: right;\n",
       "    }\n",
       "</style>\n",
       "<table border=\"1\" class=\"dataframe\">\n",
       "  <thead>\n",
       "    <tr style=\"text-align: right;\">\n",
       "      <th></th>\n",
       "      <th>Date</th>\n",
       "      <th>Open</th>\n",
       "      <th>High</th>\n",
       "      <th>Low</th>\n",
       "      <th>Close</th>\n",
       "      <th>Adj Close</th>\n",
       "      <th>Volume</th>\n",
       "    </tr>\n",
       "  </thead>\n",
       "  <tbody>\n",
       "    <tr>\n",
       "      <th>0</th>\n",
       "      <td>2018-03-26</td>\n",
       "      <td>1409.500000</td>\n",
       "      <td>1413.699951</td>\n",
       "      <td>1390.775024</td>\n",
       "      <td>1408.500000</td>\n",
       "      <td>1263.956909</td>\n",
       "      <td>2964210</td>\n",
       "    </tr>\n",
       "    <tr>\n",
       "      <th>1</th>\n",
       "      <td>2018-03-27</td>\n",
       "      <td>1412.500000</td>\n",
       "      <td>1431.500000</td>\n",
       "      <td>1411.525024</td>\n",
       "      <td>1423.849976</td>\n",
       "      <td>1277.731567</td>\n",
       "      <td>2494574</td>\n",
       "    </tr>\n",
       "    <tr>\n",
       "      <th>2</th>\n",
       "      <td>2018-03-28</td>\n",
       "      <td>1417.949951</td>\n",
       "      <td>1437.500000</td>\n",
       "      <td>1412.500000</td>\n",
       "      <td>1424.574951</td>\n",
       "      <td>1278.382202</td>\n",
       "      <td>6865654</td>\n",
       "    </tr>\n",
       "    <tr>\n",
       "      <th>3</th>\n",
       "      <td>2018-04-02</td>\n",
       "      <td>1420.000000</td>\n",
       "      <td>1457.000000</td>\n",
       "      <td>1420.000000</td>\n",
       "      <td>1454.824951</td>\n",
       "      <td>1305.527832</td>\n",
       "      <td>1662988</td>\n",
       "    </tr>\n",
       "    <tr>\n",
       "      <th>4</th>\n",
       "      <td>2018-04-03</td>\n",
       "      <td>1446.050049</td>\n",
       "      <td>1464.949951</td>\n",
       "      <td>1446.050049</td>\n",
       "      <td>1455.625000</td>\n",
       "      <td>1306.245972</td>\n",
       "      <td>1937290</td>\n",
       "    </tr>\n",
       "  </tbody>\n",
       "</table>\n",
       "</div>"
      ],
      "text/plain": [
       "         Date         Open         High          Low        Close  \\\n",
       "0  2018-03-26  1409.500000  1413.699951  1390.775024  1408.500000   \n",
       "1  2018-03-27  1412.500000  1431.500000  1411.525024  1423.849976   \n",
       "2  2018-03-28  1417.949951  1437.500000  1412.500000  1424.574951   \n",
       "3  2018-04-02  1420.000000  1457.000000  1420.000000  1454.824951   \n",
       "4  2018-04-03  1446.050049  1464.949951  1446.050049  1455.625000   \n",
       "\n",
       "     Adj Close   Volume  \n",
       "0  1263.956909  2964210  \n",
       "1  1277.731567  2494574  \n",
       "2  1278.382202  6865654  \n",
       "3  1305.527832  1662988  \n",
       "4  1306.245972  1937290  "
      ]
     },
     "execution_count": 4,
     "metadata": {},
     "output_type": "execute_result"
    }
   ],
   "source": [
    "df.head()"
   ]
  },
  {
   "cell_type": "code",
   "execution_count": 5,
   "metadata": {},
   "outputs": [],
   "source": [
    "df.drop('Adj Close',axis=1,inplace=True)"
   ]
  },
  {
   "cell_type": "code",
   "execution_count": 6,
   "metadata": {},
   "outputs": [
    {
     "data": {
      "text/html": [
       "<div>\n",
       "<style scoped>\n",
       "    .dataframe tbody tr th:only-of-type {\n",
       "        vertical-align: middle;\n",
       "    }\n",
       "\n",
       "    .dataframe tbody tr th {\n",
       "        vertical-align: top;\n",
       "    }\n",
       "\n",
       "    .dataframe thead th {\n",
       "        text-align: right;\n",
       "    }\n",
       "</style>\n",
       "<table border=\"1\" class=\"dataframe\">\n",
       "  <thead>\n",
       "    <tr style=\"text-align: right;\">\n",
       "      <th></th>\n",
       "      <th>Date</th>\n",
       "      <th>Open</th>\n",
       "      <th>High</th>\n",
       "      <th>Low</th>\n",
       "      <th>Close</th>\n",
       "      <th>Adj Close</th>\n",
       "      <th>Volume</th>\n",
       "    </tr>\n",
       "  </thead>\n",
       "  <tbody>\n",
       "    <tr>\n",
       "      <th>0</th>\n",
       "      <td>2018-03-26</td>\n",
       "      <td>1409.500000</td>\n",
       "      <td>1413.699951</td>\n",
       "      <td>1390.775024</td>\n",
       "      <td>1408.500000</td>\n",
       "      <td>1263.956909</td>\n",
       "      <td>2964210</td>\n",
       "    </tr>\n",
       "    <tr>\n",
       "      <th>1</th>\n",
       "      <td>2018-03-27</td>\n",
       "      <td>1412.500000</td>\n",
       "      <td>1431.500000</td>\n",
       "      <td>1411.525024</td>\n",
       "      <td>1423.849976</td>\n",
       "      <td>1277.731567</td>\n",
       "      <td>2494574</td>\n",
       "    </tr>\n",
       "    <tr>\n",
       "      <th>2</th>\n",
       "      <td>2018-03-28</td>\n",
       "      <td>1417.949951</td>\n",
       "      <td>1437.500000</td>\n",
       "      <td>1412.500000</td>\n",
       "      <td>1424.574951</td>\n",
       "      <td>1278.382202</td>\n",
       "      <td>6865654</td>\n",
       "    </tr>\n",
       "    <tr>\n",
       "      <th>3</th>\n",
       "      <td>2018-04-02</td>\n",
       "      <td>1420.000000</td>\n",
       "      <td>1457.000000</td>\n",
       "      <td>1420.000000</td>\n",
       "      <td>1454.824951</td>\n",
       "      <td>1305.527832</td>\n",
       "      <td>1662988</td>\n",
       "    </tr>\n",
       "    <tr>\n",
       "      <th>4</th>\n",
       "      <td>2018-04-03</td>\n",
       "      <td>1446.050049</td>\n",
       "      <td>1464.949951</td>\n",
       "      <td>1446.050049</td>\n",
       "      <td>1455.625000</td>\n",
       "      <td>1306.245972</td>\n",
       "      <td>1937290</td>\n",
       "    </tr>\n",
       "  </tbody>\n",
       "</table>\n",
       "</div>"
      ],
      "text/plain": [
       "         Date         Open         High          Low        Close  \\\n",
       "0  2018-03-26  1409.500000  1413.699951  1390.775024  1408.500000   \n",
       "1  2018-03-27  1412.500000  1431.500000  1411.525024  1423.849976   \n",
       "2  2018-03-28  1417.949951  1437.500000  1412.500000  1424.574951   \n",
       "3  2018-04-02  1420.000000  1457.000000  1420.000000  1454.824951   \n",
       "4  2018-04-03  1446.050049  1464.949951  1446.050049  1455.625000   \n",
       "\n",
       "     Adj Close   Volume  \n",
       "0  1263.956909  2964210  \n",
       "1  1277.731567  2494574  \n",
       "2  1278.382202  6865654  \n",
       "3  1305.527832  1662988  \n",
       "4  1306.245972  1937290  "
      ]
     },
     "execution_count": 6,
     "metadata": {},
     "output_type": "execute_result"
    }
   ],
   "source": [
    "dataset.head()"
   ]
  },
  {
   "cell_type": "code",
   "execution_count": 10,
   "metadata": {},
   "outputs": [
    {
     "name": "stdout",
     "output_type": "stream",
     "text": [
      "<class 'pandas.core.frame.DataFrame'>\n",
      "RangeIndex: 1237 entries, 0 to 1236\n",
      "Data columns (total 6 columns):\n",
      " #   Column  Non-Null Count  Dtype  \n",
      "---  ------  --------------  -----  \n",
      " 0   Date    1237 non-null   object \n",
      " 1   Open    1237 non-null   float64\n",
      " 2   High    1237 non-null   float64\n",
      " 3   Low     1237 non-null   float64\n",
      " 4   Close   1237 non-null   float64\n",
      " 5   Volume  1237 non-null   int64  \n",
      "dtypes: float64(4), int64(1), object(1)\n",
      "memory usage: 58.1+ KB\n"
     ]
    }
   ],
   "source": [
    "df.info()"
   ]
  },
  {
   "cell_type": "code",
   "execution_count": 11,
   "metadata": {},
   "outputs": [
    {
     "data": {
      "text/html": [
       "<div>\n",
       "<style scoped>\n",
       "    .dataframe tbody tr th:only-of-type {\n",
       "        vertical-align: middle;\n",
       "    }\n",
       "\n",
       "    .dataframe tbody tr th {\n",
       "        vertical-align: top;\n",
       "    }\n",
       "\n",
       "    .dataframe thead th {\n",
       "        text-align: right;\n",
       "    }\n",
       "</style>\n",
       "<table border=\"1\" class=\"dataframe\">\n",
       "  <thead>\n",
       "    <tr style=\"text-align: right;\">\n",
       "      <th></th>\n",
       "      <th>Open</th>\n",
       "      <th>High</th>\n",
       "      <th>Low</th>\n",
       "      <th>Close</th>\n",
       "      <th>Volume</th>\n",
       "    </tr>\n",
       "  </thead>\n",
       "  <tbody>\n",
       "    <tr>\n",
       "      <th>count</th>\n",
       "      <td>1237.000000</td>\n",
       "      <td>1237.000000</td>\n",
       "      <td>1237.000000</td>\n",
       "      <td>1237.000000</td>\n",
       "      <td>1.237000e+03</td>\n",
       "    </tr>\n",
       "    <tr>\n",
       "      <th>mean</th>\n",
       "      <td>2671.890378</td>\n",
       "      <td>2698.448844</td>\n",
       "      <td>2642.727856</td>\n",
       "      <td>2670.300646</td>\n",
       "      <td>3.003810e+06</td>\n",
       "    </tr>\n",
       "    <tr>\n",
       "      <th>std</th>\n",
       "      <td>686.570508</td>\n",
       "      <td>689.521390</td>\n",
       "      <td>682.113327</td>\n",
       "      <td>685.849805</td>\n",
       "      <td>1.908960e+06</td>\n",
       "    </tr>\n",
       "    <tr>\n",
       "      <th>min</th>\n",
       "      <td>1409.500000</td>\n",
       "      <td>1413.699951</td>\n",
       "      <td>1390.775024</td>\n",
       "      <td>1408.500000</td>\n",
       "      <td>1.445300e+05</td>\n",
       "    </tr>\n",
       "    <tr>\n",
       "      <th>25%</th>\n",
       "      <td>2060.000000</td>\n",
       "      <td>2078.800049</td>\n",
       "      <td>2032.699951</td>\n",
       "      <td>2051.000000</td>\n",
       "      <td>1.857416e+06</td>\n",
       "    </tr>\n",
       "    <tr>\n",
       "      <th>50%</th>\n",
       "      <td>2491.399902</td>\n",
       "      <td>2538.000000</td>\n",
       "      <td>2464.600098</td>\n",
       "      <td>2503.000000</td>\n",
       "      <td>2.544464e+06</td>\n",
       "    </tr>\n",
       "    <tr>\n",
       "      <th>75%</th>\n",
       "      <td>3292.850098</td>\n",
       "      <td>3325.000000</td>\n",
       "      <td>3262.100098</td>\n",
       "      <td>3290.500000</td>\n",
       "      <td>3.509857e+06</td>\n",
       "    </tr>\n",
       "    <tr>\n",
       "      <th>max</th>\n",
       "      <td>4033.949951</td>\n",
       "      <td>4043.000000</td>\n",
       "      <td>3980.000000</td>\n",
       "      <td>4019.149902</td>\n",
       "      <td>2.290380e+07</td>\n",
       "    </tr>\n",
       "  </tbody>\n",
       "</table>\n",
       "</div>"
      ],
      "text/plain": [
       "              Open         High          Low        Close        Volume\n",
       "count  1237.000000  1237.000000  1237.000000  1237.000000  1.237000e+03\n",
       "mean   2671.890378  2698.448844  2642.727856  2670.300646  3.003810e+06\n",
       "std     686.570508   689.521390   682.113327   685.849805  1.908960e+06\n",
       "min    1409.500000  1413.699951  1390.775024  1408.500000  1.445300e+05\n",
       "25%    2060.000000  2078.800049  2032.699951  2051.000000  1.857416e+06\n",
       "50%    2491.399902  2538.000000  2464.600098  2503.000000  2.544464e+06\n",
       "75%    3292.850098  3325.000000  3262.100098  3290.500000  3.509857e+06\n",
       "max    4033.949951  4043.000000  3980.000000  4019.149902  2.290380e+07"
      ]
     },
     "execution_count": 11,
     "metadata": {},
     "output_type": "execute_result"
    }
   ],
   "source": [
    "df.describe()"
   ]
  },
  {
   "cell_type": "code",
   "execution_count": 12,
   "metadata": {},
   "outputs": [],
   "source": [
    "x=df[['Open','High','Low','Volume']]\n",
    "y=df['Close']"
   ]
  },
  {
   "cell_type": "code",
   "execution_count": 13,
   "metadata": {},
   "outputs": [],
   "source": [
    "from sklearn.model_selection import train_test_split\n",
    "x_train , x_test ,y_train , y_test = train_test_split(x,y,random_state=0)"
   ]
  },
  {
   "cell_type": "code",
   "execution_count": 14,
   "metadata": {},
   "outputs": [
    {
     "data": {
      "text/plain": [
       "(310, 4)"
      ]
     },
     "execution_count": 14,
     "metadata": {},
     "output_type": "execute_result"
    }
   ],
   "source": [
    "x_test.shape"
   ]
  },
  {
   "cell_type": "code",
   "execution_count": 15,
   "metadata": {},
   "outputs": [
    {
     "data": {
      "text/plain": [
       "(310, 4)"
      ]
     },
     "execution_count": 15,
     "metadata": {},
     "output_type": "execute_result"
    }
   ],
   "source": [
    "x_test.shape"
   ]
  },
  {
   "cell_type": "code",
   "execution_count": null,
   "metadata": {},
   "outputs": [],
   "source": []
  }
 ],
 "metadata": {
  "kernelspec": {
   "display_name": "Python 3",
   "language": "python",
   "name": "python3"
  },
  "language_info": {
   "codemirror_mode": {
    "name": "ipython",
    "version": 3
   },
   "file_extension": ".py",
   "mimetype": "text/x-python",
   "name": "python",
   "nbconvert_exporter": "python",
   "pygments_lexer": "ipython3",
   "version": "3.9.4"
  },
  "orig_nbformat": 4
 },
 "nbformat": 4,
 "nbformat_minor": 2
}
