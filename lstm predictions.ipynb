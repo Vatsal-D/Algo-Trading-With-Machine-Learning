{
 "cells": [
  {
   "cell_type": "code",
   "execution_count": 4,
   "metadata": {},
   "outputs": [
    {
     "data": {
      "text/plain": [
       "True"
      ]
     },
     "execution_count": 4,
     "metadata": {},
     "output_type": "execute_result"
    }
   ],
   "source": [
    "import webbrowser\n",
    "import pandas as pd\n",
    "import plotly.graph_objects as go\n",
    "from plotly.subplots import make_subplots\n",
    "\n",
    "# Function to handle button click event\n",
    "def plot_candlestick():\n",
    "    # Get the start and end dates from the input fields\n",
    "    start_date = start_entry.get()\n",
    "    end_date = end_entry.get()\n",
    "\n",
    "    # Load the data\n",
    "    df = pd.read_csv('predicted.csv')\n",
    "\n",
    "    # Filter the data based on the start and end dates\n",
    "    mask = (df['Date'] >= start_date) & (df['Date'] <= end_date)\n",
    "    filtered_data = df.loc[mask]\n",
    "\n",
    "    # Create the Plotly figure\n",
    "    fig = make_subplots(rows=1, cols=1)\n",
    "\n",
    "    # Add the candlestick trace\n",
    "    candlestick_trace = go.Candlestick(\n",
    "        x=filtered_data['Date'],\n",
    "        open=filtered_data['Open'],\n",
    "        high=filtered_data['High'],\n",
    "        low=filtered_data['Low'],\n",
    "        close=filtered_data['Close'],\n",
    "        increasing=dict(line=dict(color='green')),\n",
    "        decreasing=dict(line=dict(color='red'))\n",
    "    )\n",
    "    fig.add_trace(candlestick_trace)\n",
    "\n",
    "    # Update the layout\n",
    "    fig.update_layout(\n",
    "        title='Stock Candlestick Graph',\n",
    "        xaxis_rangeslider_visible=False\n",
    "    )\n",
    "\n",
    "    # Save the HTML file\n",
    "    fig.write_html('candlestick_graph.html')\n",
    "\n",
    "    # Open the HTML file in the web browser\n",
    "    webbrowser.open('candlestick_graph.html')\n",
    "\n",
    "# Create input fields for start and end dates\n",
    "start_date = input(\"Enter the Start Date (YYYY-MM-DD): \")\n",
    "end_date = input(\"Enter the End Date (YYYY-MM-DD): \")\n",
    "\n",
    "# Load the data\n",
    "df = pd.read_csv('predicted.csv')\n",
    "\n",
    "# Filter the data based on the start and end dates\n",
    "mask = (df['Date'] >= start_date) & (df['Date'] <= end_date)\n",
    "filtered_data = df.loc[mask]\n",
    "\n",
    "# Create the Plotly figure\n",
    "fig = make_subplots(rows=1, cols=1)\n",
    "\n",
    "# Add the candlestick trace\n",
    "candlestick_trace = go.Candlestick(\n",
    "    x=filtered_data['Date'],\n",
    "    open=filtered_data['Open'],\n",
    "    high=filtered_data['High'],\n",
    "    low=filtered_data['Low'],\n",
    "    close=filtered_data['Close'],\n",
    "    increasing=dict(line=dict(color='green')),\n",
    "    decreasing=dict(line=dict(color='red'))\n",
    ")\n",
    "fig.add_trace(candlestick_trace)\n",
    "\n",
    "# Update the layout\n",
    "fig.update_layout(\n",
    "    title='Stock Candlestick Graph',\n",
    "    xaxis_rangeslider_visible=False\n",
    ")\n",
    "\n",
    "# Save the HTML file\n",
    "fig.write_html('candlestick_graph.html')\n",
    "\n",
    "# Open the HTML file in the web browser\n",
    "webbrowser.open('candlestick_graph.html')\n"
   ]
  },
  {
   "cell_type": "code",
   "execution_count": null,
   "metadata": {},
   "outputs": [],
   "source": []
  }
 ],
 "metadata": {
  "kernelspec": {
   "display_name": "base",
   "language": "python",
   "name": "python3"
  },
  "language_info": {
   "codemirror_mode": {
    "name": "ipython",
    "version": 3
   },
   "file_extension": ".py",
   "mimetype": "text/x-python",
   "name": "python",
   "nbconvert_exporter": "python",
   "pygments_lexer": "ipython3",
   "version": "3.9.12"
  },
  "orig_nbformat": 4
 },
 "nbformat": 4,
 "nbformat_minor": 2
}
